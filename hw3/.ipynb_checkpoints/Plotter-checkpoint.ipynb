{
 "cells": [
  {
   "cell_type": "markdown",
   "metadata": {},
   "source": [
    "# Setup"
   ]
  },
  {
   "cell_type": "code",
   "execution_count": 1,
   "metadata": {},
   "outputs": [],
   "source": [
    "import tensorflow as tf\n",
    "from tensorflow.python.summary.summary_iterator import summary_iterator\n",
    "from pprint import pprint\n",
    "import numpy as np\n",
    "import matplotlib.pyplot as plt\n",
    "import os"
   ]
  },
  {
   "cell_type": "code",
   "execution_count": 2,
   "metadata": {},
   "outputs": [],
   "source": [
    "def get_section_results(file):\n",
    "    eval_returns = {}\n",
    "    for e in summary_iterator(file):\n",
    "        for v in e.summary.value:\n",
    "            if v.tag not in eval_returns:\n",
    "                eval_returns[v.tag] = [v.simple_value]\n",
    "            else:\n",
    "                eval_returns[v.tag].append(v.simple_value)\n",
    "    return eval_returns"
   ]
  },
  {
   "cell_type": "code",
   "execution_count": 4,
   "metadata": {},
   "outputs": [
    {
     "name": "stdout",
     "output_type": "stream",
     "text": [
      "array(['cs285/data/hw3_ q5_10_10_InvertedPendulum-v2_20-10-2020_16-27-20/events.out.tfevents.1603236440.Aryans-MacBook-Pro.local',\n",
      "       'cs285/data/hw3_q2_dqn_2_LunarLander-v3_19-10-2020_14-59-29/events.out.tfevents.1603144769.Aryans-MacBook-Pro.local',\n",
      "       'cs285/data/hw3_q3_hparam2_LunarLander-v3_20-10-2020_02-42-25/gym',\n",
      "       'cs285/data/hw3_q3_hparam1_LunarLander-v3_20-10-2020_02-14-31/events.out.tfevents.1603185271.Aryans-MacBook-Pro.local',\n",
      "       'cs285/data/hw3_q2_dqn_3_LunarLander-v3_19-10-2020_15-32-28/events.out.tfevents.1603146748.Aryans-MacBook-Pro.local',\n",
      "       'cs285/data/hw3_ q4_ac_1_1_CartPole-v0_20-10-2020_16-20-18/events.out.tfevents.1603236018.Aryans-MacBook-Pro.local',\n",
      "       'cs285/data/hw3_q1_MsPacman-v0_19-10-2020_00-06-50/gym',\n",
      "       'cs285/data/hw3_ q4_10_10_CartPole-v0_20-10-2020_16-23-33/events.out.tfevents.1603236213.Aryans-MacBook-Pro.local',\n",
      "       'cs285/data/hw3_q2_doubledqn_2_LunarLander-v3_19-10-2020_20-14-56/events.out.tfevents.1603163696.Aryans-MacBook-Pro.local',\n",
      "       'cs285/data/hw3_q2_doubledqn_3_LunarLander-v3_19-10-2020_21-10-33/events.out.tfevents.1603167033.Aryans-MacBook-Pro.local',\n",
      "       'cs285/data/hw3_ q4_100_1_CartPole-v0_20-10-2020_16-21-09/events.out.tfevents.1603236069.Aryans-MacBook-Pro.local',\n",
      "       'cs285/data/hw3_q3_hparam2_LunarLander-v3_20-10-2020_03-11-38/events.out.tfevents.1603188698.Aryans-MacBook-Pro.local',\n",
      "       'cs285/data/hw3_ q5_10_10_HalfCheetah-v2_20-10-2020_16-33-03/events.out.tfevents.1603236783.Aryans-MacBook-Pro.local',\n",
      "       'cs285/data/hw3_q2_dqn_1_LunarLander-v3_19-10-2020_14-37-33/events.out.tfevents.1603143453.Aryans-MacBook-Pro.local',\n",
      "       'cs285/data/hw3_q2_doubledqn_1_LunarLander-v3_19-10-2020_16-50-32/events.out.tfevents.1603151432.Aryans-MacBook-Pro.local',\n",
      "       'cs285/data/hw3_ q4_1_100_CartPole-v0_20-10-2020_16-22-27/events.out.tfevents.1603236147.Aryans-MacBook-Pro.local'],\n",
      "      dtype='<U120')\n"
     ]
    }
   ],
   "source": [
    "tb_filenames = os.listdir(\"data/\")\n",
    "for i in range(len(tb_filenames)):\n",
    "    tb_filenames[i] = \"data/\" + tb_filenames[i]\n",
    "    tb_filenames[i] = tb_filenames[i] + \"/\" + os.listdir(tb_filenames[i])[0]\n",
    "\n",
    "tb_filenames = np.array(tb_filenames)\n",
    "pprint(tb_filenames)"
   ]
  },
  {
   "cell_type": "code",
   "execution_count": 5,
   "metadata": {
    "scrolled": false
   },
   "outputs": [
    {
     "name": "stdout",
     "output_type": "stream",
     "text": [
      "WARNING:tensorflow:From /Users/aryanluthra/opt/anaconda3/lib/python3.8/site-packages/tensorflow/python/summary/summary_iterator.py:68: tf_record_iterator (from tensorflow.python.lib.io.tf_record) is deprecated and will be removed in a future version.\n",
      "Instructions for updating:\n",
      "Use eager execution and: \n",
      "`tf.data.TFRecordDataset(path)`\n",
      "dict_keys(['Eval_AverageReturn', 'Eval_StdReturn', 'Eval_MaxReturn', 'Eval_MinReturn', 'Eval_AverageEpLen', 'Train_AverageReturn', 'Train_StdReturn', 'Train_MaxReturn', 'Train_MinReturn', 'Train_AverageEpLen', 'Train_EnvstepsSoFar', 'TimeSinceStart', 'Critic_Loss', 'Actor_Loss', 'Initial_DataCollection_AverageReturn'])\n"
     ]
    }
   ],
   "source": [
    "pprint(get_section_results(tb_filenames[0]).keys())"
   ]
  },
  {
   "cell_type": "code",
   "execution_count": 6,
   "metadata": {},
   "outputs": [
    {
     "ename": "ValueError",
     "evalue": "substring not found",
     "output_type": "error",
     "traceback": [
      "\u001b[0;31m---------------------------------------------------------------------------\u001b[0m",
      "\u001b[0;31mValueError\u001b[0m                                Traceback (most recent call last)",
      "\u001b[0;32m<ipython-input-6-37559f5ac521>\u001b[0m in \u001b[0;36m<module>\u001b[0;34m\u001b[0m\n\u001b[1;32m     46\u001b[0m \u001b[0;34m\u001b[0m\u001b[0m\n\u001b[1;32m     47\u001b[0m \u001b[0mplt\u001b[0m\u001b[0;34m.\u001b[0m\u001b[0mfigure\u001b[0m\u001b[0;34m(\u001b[0m\u001b[0mfigsize\u001b[0m\u001b[0;34m=\u001b[0m\u001b[0;34m(\u001b[0m\u001b[0;36m14\u001b[0m\u001b[0;34m,\u001b[0m \u001b[0;36m9\u001b[0m\u001b[0;34m)\u001b[0m\u001b[0;34m)\u001b[0m\u001b[0;34m\u001b[0m\u001b[0;34m\u001b[0m\u001b[0m\n\u001b[0;32m---> 48\u001b[0;31m \u001b[0mplot_eval_return\u001b[0m\u001b[0;34m(\u001b[0m\u001b[0mtb_filenames\u001b[0m\u001b[0;34m[\u001b[0m\u001b[0;36m0\u001b[0m\u001b[0;34m]\u001b[0m\u001b[0;34m)\u001b[0m\u001b[0;34m\u001b[0m\u001b[0;34m\u001b[0m\u001b[0m\n\u001b[0m\u001b[1;32m     49\u001b[0m \u001b[0mplot_eval_return\u001b[0m\u001b[0;34m(\u001b[0m\u001b[0mtb_filenames\u001b[0m\u001b[0;34m[\u001b[0m\u001b[0;36m1\u001b[0m\u001b[0;34m]\u001b[0m\u001b[0;34m)\u001b[0m\u001b[0;34m\u001b[0m\u001b[0;34m\u001b[0m\u001b[0m\n",
      "\u001b[0;32m<ipython-input-6-37559f5ac521>\u001b[0m in \u001b[0;36mplot_eval_return\u001b[0;34m(filename, experiment_name, fmt)\u001b[0m\n\u001b[1;32m      4\u001b[0m         \u001b[0mexperiment_name\u001b[0m \u001b[0;34m=\u001b[0m \u001b[0mexperiment_name\u001b[0m\u001b[0;34m[\u001b[0m\u001b[0;34m:\u001b[0m\u001b[0mexperiment_name\u001b[0m\u001b[0;34m.\u001b[0m\u001b[0mindex\u001b[0m\u001b[0;34m(\u001b[0m\u001b[0;34m\"/\"\u001b[0m\u001b[0;34m)\u001b[0m\u001b[0;34m]\u001b[0m\u001b[0;34m\u001b[0m\u001b[0;34m\u001b[0m\u001b[0m\n\u001b[1;32m      5\u001b[0m         \u001b[0mexperiment_name\u001b[0m \u001b[0;34m=\u001b[0m \u001b[0mexperiment_name\u001b[0m\u001b[0;34m[\u001b[0m\u001b[0;34m:\u001b[0m\u001b[0;34m:\u001b[0m\u001b[0;34m-\u001b[0m\u001b[0;36m1\u001b[0m\u001b[0;34m]\u001b[0m\u001b[0;34m\u001b[0m\u001b[0;34m\u001b[0m\u001b[0m\n\u001b[0;32m----> 6\u001b[0;31m         \u001b[0mexperiment_name\u001b[0m \u001b[0;34m=\u001b[0m \u001b[0mexperiment_name\u001b[0m\u001b[0;34m[\u001b[0m\u001b[0mexperiment_name\u001b[0m\u001b[0;34m.\u001b[0m\u001b[0mindex\u001b[0m\u001b[0;34m(\u001b[0m\u001b[0;34m\"_\"\u001b[0m\u001b[0;34m)\u001b[0m\u001b[0;34m+\u001b[0m\u001b[0;36m1\u001b[0m\u001b[0;34m:\u001b[0m\u001b[0;34m]\u001b[0m\u001b[0;34m\u001b[0m\u001b[0;34m\u001b[0m\u001b[0m\n\u001b[0m\u001b[1;32m      7\u001b[0m         \u001b[0mexperiment_name\u001b[0m \u001b[0;34m=\u001b[0m \u001b[0mexperiment_name\u001b[0m\u001b[0;34m[\u001b[0m\u001b[0mexperiment_name\u001b[0m\u001b[0;34m.\u001b[0m\u001b[0mindex\u001b[0m\u001b[0;34m(\u001b[0m\u001b[0;34m\"_\"\u001b[0m\u001b[0;34m)\u001b[0m\u001b[0;34m+\u001b[0m\u001b[0;36m1\u001b[0m\u001b[0;34m:\u001b[0m\u001b[0;34m]\u001b[0m\u001b[0;34m\u001b[0m\u001b[0;34m\u001b[0m\u001b[0m\n\u001b[1;32m      8\u001b[0m         \u001b[0mexperiment_name\u001b[0m \u001b[0;34m=\u001b[0m \u001b[0mexperiment_name\u001b[0m\u001b[0;34m[\u001b[0m\u001b[0;34m:\u001b[0m\u001b[0;34m:\u001b[0m\u001b[0;34m-\u001b[0m\u001b[0;36m1\u001b[0m\u001b[0;34m]\u001b[0m\u001b[0;34m\u001b[0m\u001b[0;34m\u001b[0m\u001b[0m\n",
      "\u001b[0;31mValueError\u001b[0m: substring not found"
     ]
    },
    {
     "data": {
      "text/plain": [
       "<Figure size 1008x648 with 0 Axes>"
      ]
     },
     "metadata": {},
     "output_type": "display_data"
    }
   ],
   "source": [
    "def plot_eval_return(filename, experiment_name = \"\", fmt = None):\n",
    "    if experiment_name == \"\":\n",
    "        experiment_name = filename[5:]\n",
    "        experiment_name = experiment_name[:experiment_name.index(\"/\")]\n",
    "        experiment_name = experiment_name[::-1]\n",
    "        experiment_name = experiment_name[experiment_name.index(\"_\")+1:]\n",
    "        experiment_name = experiment_name[experiment_name.index(\"_\")+1:]\n",
    "        experiment_name = experiment_name[::-1]\n",
    "        #print(experiment_name)\n",
    "    data = get_section_results(filename)\n",
    "    eval_avg_return = data['Eval_AverageReturn']\n",
    "    eval_std = data['Eval_StdReturn']\n",
    "    iters = np.arange(len(eval_avg_return))\n",
    "    \n",
    "    if fmt:\n",
    "        plt.errorbar(iters, eval_avg_return, eval_std, label = experiment_name + \" Eval Return\", fmt=fmt)\n",
    "    else:\n",
    "        plt.errorbar(iters, eval_avg_return, eval_std, label = experiment_name + \" Eval Return\")\n",
    "    \n",
    "    plt.xlabel(\"Iterations\")\n",
    "    plt.ylabel(\"Return\")\n",
    "    plt.legend()\n",
    "    \n",
    "def plot_train_return(filename, experiment_name = \"\", fmt = None):\n",
    "    if experiment_name == \"\":\n",
    "        experiment_name = filename[5:]\n",
    "        experiment_name = experiment_name[:experiment_name.index(\"/\")]\n",
    "        experiment_name = experiment_name[::-1]\n",
    "        experiment_name = experiment_name[experiment_name.index(\"_\")+1:]\n",
    "        experiment_name = experiment_name[experiment_name.index(\"_\")+1:]\n",
    "        experiment_name = experiment_name[::-1]\n",
    "        #print(experiment_name)\n",
    "    data = get_section_results(filename)\n",
    "    eval_avg_return = data['Train_AverageReturn']\n",
    "    eval_std = data['Train_StdReturn']\n",
    "    iters = np.arange(len(eval_avg_return))\n",
    "    \n",
    "    if fmt:\n",
    "        plt.errorbar(iters, eval_avg_return, eval_std, label = experiment_name + \" Eval Return\", fmt=fmt)\n",
    "    else:\n",
    "        plt.errorbar(iters, eval_avg_return, eval_std, label = experiment_name + \" Eval Return\")\n",
    "    \n",
    "    plt.xlabel(\"Iterations\")\n",
    "    plt.ylabel(\"Return\")\n",
    "    plt.legend()\n",
    "\n",
    "plt.figure(figsize=(14, 9))\n",
    "plot_eval_return(tb_filenames[0])\n",
    "plot_eval_return(tb_filenames[1])"
   ]
  },
  {
   "cell_type": "code",
   "execution_count": null,
   "metadata": {},
   "outputs": [],
   "source": []
  }
 ],
 "metadata": {
  "kernelspec": {
   "display_name": "Python 3",
   "language": "python",
   "name": "python3"
  },
  "language_info": {
   "codemirror_mode": {
    "name": "ipython",
    "version": 3
   },
   "file_extension": ".py",
   "mimetype": "text/x-python",
   "name": "python",
   "nbconvert_exporter": "python",
   "pygments_lexer": "ipython3",
   "version": "3.8.3"
  }
 },
 "nbformat": 4,
 "nbformat_minor": 4
}
