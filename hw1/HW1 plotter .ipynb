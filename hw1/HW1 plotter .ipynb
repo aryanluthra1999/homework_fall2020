{
 "cells": [
  {
   "cell_type": "code",
   "execution_count": 24,
   "metadata": {},
   "outputs": [],
   "source": [
    "import tensorflow as tf\n",
    "from tensorflow.python.summary.summary_iterator import summary_iterator\n",
    "from pprint import pprint"
   ]
  },
  {
   "cell_type": "code",
   "execution_count": 20,
   "metadata": {},
   "outputs": [],
   "source": [
    "def get_section_results(file):\n",
    "    eval_returns = {}\n",
    "    for e in summary_iterator(file):\n",
    "        for v in e.summary.value:\n",
    "            if v.tag not in eval_returns:\n",
    "                eval_returns[v.tag] = [v.simple_value]\n",
    "            else:\n",
    "                eval_returns[v.tag].append(v.simple_value)\n",
    "    return eval_returns"
   ]
  },
  {
   "cell_type": "code",
   "execution_count": 23,
   "metadata": {},
   "outputs": [
    {
     "data": {
      "text/plain": [
       "{'Eval_AverageReturn': [1498.5616455078125],\n",
       " 'Eval_StdReturn': [856.665283203125],\n",
       " 'Eval_MaxReturn': [3015.87060546875],\n",
       " 'Eval_MinReturn': [653.4749145507812],\n",
       " 'Eval_AverageEpLen': [1000.0],\n",
       " 'Train_AverageReturn': [4713.6533203125],\n",
       " 'Train_StdReturn': [12.196533203125],\n",
       " 'Train_MaxReturn': [4725.849609375],\n",
       " 'Train_MinReturn': [4701.45654296875],\n",
       " 'Train_AverageEpLen': [1000.0],\n",
       " 'Train_EnvstepsSoFar': [0.0],\n",
       " 'TimeSinceStart': [11.408234596252441],\n",
       " 'Training_Loss': [0.03433779627084732],\n",
       " 'Initial_DataCollection_AverageReturn': [4713.6533203125]}"
      ]
     },
     "execution_count": 23,
     "metadata": {},
     "output_type": "execute_result"
    }
   ],
   "source": [
    "q1_results = get_section_results('data/q1_bc_ant_Ant-v2_14-09-2020_22-13-53/events.out.tfevents.1600146833.Aryans-MacBook-Pro.local')\n",
    "q1_results"
   ]
  },
  {
   "cell_type": "code",
   "execution_count": 27,
   "metadata": {
    "scrolled": false
   },
   "outputs": [
    {
     "name": "stdout",
     "output_type": "stream",
     "text": [
      "{'Eval_AverageEpLen': [1000.0],\n",
      " 'Eval_AverageReturn': [1498.5616455078125],\n",
      " 'Eval_MaxReturn': [3015.87060546875],\n",
      " 'Eval_MinReturn': [653.4749145507812],\n",
      " 'Eval_StdReturn': [856.665283203125],\n",
      " 'Initial_DataCollection_AverageReturn': [4713.6533203125],\n",
      " 'TimeSinceStart': [11.302494049072266],\n",
      " 'Train_AverageEpLen': [1000.0],\n",
      " 'Train_AverageReturn': [4713.6533203125],\n",
      " 'Train_EnvstepsSoFar': [0.0],\n",
      " 'Train_MaxReturn': [4725.849609375],\n",
      " 'Train_MinReturn': [4701.45654296875],\n",
      " 'Train_StdReturn': [12.196533203125],\n",
      " 'Training_Loss': [0.03433779627084732]}\n"
     ]
    }
   ],
   "source": [
    "q2_results = get_section_results('data/')\n",
    "pprint(q2_results)"
   ]
  },
  {
   "cell_type": "code",
   "execution_count": null,
   "metadata": {},
   "outputs": [],
   "source": []
  }
 ],
 "metadata": {
  "kernelspec": {
   "display_name": "Python 3",
   "language": "python",
   "name": "python3"
  },
  "language_info": {
   "codemirror_mode": {
    "name": "ipython",
    "version": 3
   },
   "file_extension": ".py",
   "mimetype": "text/x-python",
   "name": "python",
   "nbconvert_exporter": "python",
   "pygments_lexer": "ipython3",
   "version": "3.8.3"
  }
 },
 "nbformat": 4,
 "nbformat_minor": 4
}
